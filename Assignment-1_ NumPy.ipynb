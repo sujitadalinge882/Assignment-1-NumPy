{
 "cells": [
  {
   "cell_type": "code",
   "execution_count": 1,
   "id": "a9a6e1b2",
   "metadata": {},
   "outputs": [
    {
     "name": "stdout",
     "output_type": "stream",
     "text": [
      "[0 0 0 0 1 0 0 0 0 0]\n"
     ]
    }
   ],
   "source": [
    "# Create a null vector of size 10 but the fifth value which is 1.\n",
    "import numpy as np\n",
    "arr = np.zeros(10,dtype = int)\n",
    "arr[4] = 1\n",
    "\n",
    "print(arr)"
   ]
  },
  {
   "cell_type": "code",
   "execution_count": 3,
   "id": "68d327c9",
   "metadata": {},
   "outputs": [
    {
     "name": "stdout",
     "output_type": "stream",
     "text": [
      "[10 11 12 13 14 15 16 17 18 19 20 21 22 23 24 25 26 27 28 29 30 31 32 33\n",
      " 34 35 36 37 38 39 40 41 42 43 44 45 46 47 48 49]\n"
     ]
    }
   ],
   "source": [
    "# Create a vector with values ranging from 10 to 49.\n",
    "array_1 = np.arange(10,50)\n",
    "print(array_1)"
   ]
  },
  {
   "cell_type": "code",
   "execution_count": 4,
   "id": "81da7b46",
   "metadata": {},
   "outputs": [
    {
     "name": "stdout",
     "output_type": "stream",
     "text": [
      "[[0 1 2]\n",
      " [3 4 5]\n",
      " [6 7 8]]\n"
     ]
    }
   ],
   "source": [
    "# Create a 3x3 matrix with values ranging from 0 to 8\n",
    "array_2 = np.arange(0,9).reshape(3,3)\n",
    "print(array_2)"
   ]
  },
  {
   "cell_type": "code",
   "execution_count": 5,
   "id": "51616d50",
   "metadata": {},
   "outputs": [
    {
     "name": "stdout",
     "output_type": "stream",
     "text": [
      "Original array:\n",
      "[1 2 0 0 4 0]\n",
      "\n",
      "Indices of null elements:\n",
      "(array([2, 3, 5], dtype=int64),)\n"
     ]
    }
   ],
   "source": [
    " #Find indices of non-zero elements from [1,2,0,0,4,0]\n",
    "n_array = np.array([1,2,0,0,4,0])\n",
    "print(\"Original array:\")\n",
    "print(n_array)\n",
    "# np.nonzero()\n",
    "print(\"\\nIndices of null elements:\")\n",
    "res = np.nonzero(n_array == 0)\n",
    "print(res)"
   ]
  },
  {
   "cell_type": "code",
   "execution_count": 6,
   "id": "13e26c7e",
   "metadata": {},
   "outputs": [
    {
     "name": "stdout",
     "output_type": "stream",
     "text": [
      "the original array [[0.39832616 0.640469   0.63884376 0.52847955 0.53079985 0.41227223\n",
      "  0.83486289 0.56369925 0.79584215 0.64972165]\n",
      " [0.05109987 0.61452438 0.50764338 0.33596541 0.56408673 0.53709935\n",
      "  0.83963286 0.85330532 0.80353696 0.22092079]\n",
      " [0.94135866 0.29300166 0.39903345 0.00998836 0.07878209 0.26528555\n",
      "  0.12971461 0.56199914 0.4611422  0.04990668]\n",
      " [0.81332667 0.12597054 0.3463791  0.09503178 0.92222781 0.70370226\n",
      "  0.49565482 0.12800176 0.4551691  0.76482466]\n",
      " [0.74993921 0.89785382 0.62435242 0.03980053 0.04383492 0.90845392\n",
      "  0.86253806 0.03263518 0.74880136 0.64349437]\n",
      " [0.23963083 0.11648438 0.71285195 0.99412486 0.33618697 0.36169259\n",
      "  0.22929252 0.27871726 0.44109646 0.65867344]\n",
      " [0.67692359 0.78843731 0.2009629  0.69866501 0.16494296 0.2074529\n",
      "  0.51914013 0.57475282 0.87818286 0.66503618]\n",
      " [0.87320631 0.49046761 0.30824403 0.22864879 0.83051195 0.46522744\n",
      "  0.77544718 0.61067943 0.53578482 0.48534344]\n",
      " [0.51196821 0.90144684 0.07169286 0.17760493 0.21483954 0.2413351\n",
      "  0.43190047 0.21933974 0.88105843 0.01603476]\n",
      " [0.18863838 0.3740008  0.12097606 0.82205312 0.49006796 0.99742885\n",
      "  0.59410167 0.62230966 0.58790683 0.04532708]]\n",
      "\n",
      "\n",
      "\n",
      "the minimum value of n_array: \n",
      " 0.009988360511875682\n",
      "\n",
      "\n",
      "\n",
      "the maximun value of n_array: \n",
      " 0.9974288461191048\n"
     ]
    }
   ],
   "source": [
    "# Create a 10x10 array with random values and find the minimum and maximum values.\n",
    "n_array = np.random.random((10,10))\n",
    "\n",
    "print(\"the original array\",n_array)\n",
    "\n",
    "print(\"\\n\\n\")\n",
    "print(\"the minimum value of n_array: \\n\",n_array.min())\n",
    "      \n",
    "print(\"\\n\\n\")\n",
    "print(\"the maximun value of n_array: \\n\",n_array.max())"
   ]
  },
  {
   "cell_type": "code",
   "execution_count": 8,
   "id": "b5399d8e",
   "metadata": {},
   "outputs": [
    {
     "name": "stdout",
     "output_type": "stream",
     "text": [
      "the random array is: \n",
      " [0.16926905 0.91629311 0.61265569 0.4893921  0.2797977  0.40782757\n",
      " 0.27047395 0.95207126 0.7384072  0.84449683 0.14383879 0.26890039\n",
      " 0.69354957 0.43116927 0.96726123 0.9433146  0.0580648  0.94946926\n",
      " 0.63435917 0.49119251 0.65655247 0.06341126 0.74092803 0.56526066\n",
      " 0.97886109 0.71696969 0.90666811 0.93862704 0.7209944  0.2827359 ]\n",
      "\n",
      "\n",
      "the mean value of array: \n",
      "  0.5944270899807448\n"
     ]
    }
   ],
   "source": [
    "# Create a random vector of size 30 and find the mean value.\n",
    "z = np.random.random(30)\n",
    "print(\"the random array is: \\n\",z)\n",
    "mean_1 = z.mean()\n",
    "print(\"\\n\\nthe mean value of array: \\n \",mean_1)"
   ]
  },
  {
   "cell_type": "code",
   "execution_count": null,
   "id": "261fdc2b",
   "metadata": {},
   "outputs": [],
   "source": []
  }
 ],
 "metadata": {
  "kernelspec": {
   "display_name": "Python 3 (ipykernel)",
   "language": "python",
   "name": "python3"
  },
  "language_info": {
   "codemirror_mode": {
    "name": "ipython",
    "version": 3
   },
   "file_extension": ".py",
   "mimetype": "text/x-python",
   "name": "python",
   "nbconvert_exporter": "python",
   "pygments_lexer": "ipython3",
   "version": "3.9.12"
  }
 },
 "nbformat": 4,
 "nbformat_minor": 5
}
